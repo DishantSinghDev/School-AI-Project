{
 "cells": [
  {
   "cell_type": "markdown",
   "id": "85c34d00",
   "metadata": {
    "papermill": {
     "duration": 0.005566,
     "end_time": "2023-12-24T16:18:10.355982",
     "exception": false,
     "start_time": "2023-12-24T16:18:10.350416",
     "status": "completed"
    },
    "tags": []
   },
   "source": [
    "# Computer Vision Project\n",
    "#### - By Dishant Singh -"
   ]
  },
  {
   "cell_type": "markdown",
   "id": "500a464e",
   "metadata": {
    "papermill": {
     "duration": 0.00501,
     "end_time": "2023-12-24T16:18:10.366344",
     "exception": false,
     "start_time": "2023-12-24T16:18:10.361334",
     "status": "completed"
    },
    "tags": []
   },
   "source": [
    "### 1. Importing Modules\n",
    "First of all importing all the required python modules for this project."
   ]
  },
  {
   "cell_type": "code",
   "execution_count": 1,
   "id": "1df7e90a",
   "metadata": {
    "execution": {
     "iopub.execute_input": "2023-12-24T16:18:10.377953Z",
     "iopub.status.busy": "2023-12-24T16:18:10.377574Z",
     "iopub.status.idle": "2023-12-24T16:18:24.356892Z",
     "shell.execute_reply": "2023-12-24T16:18:24.355682Z"
    },
    "papermill": {
     "duration": 13.988736,
     "end_time": "2023-12-24T16:18:24.360029",
     "exception": false,
     "start_time": "2023-12-24T16:18:10.371293",
     "status": "completed"
    },
    "tags": []
   },
   "outputs": [],
   "source": [
    "import tensorflow as tf\n",
    "import numpy as np\n",
    "import matplotlib.pyplot as plt"
   ]
  },
  {
   "cell_type": "markdown",
   "id": "40ecfe30",
   "metadata": {
    "papermill": {
     "duration": 0.004715,
     "end_time": "2023-12-24T16:18:24.370072",
     "exception": false,
     "start_time": "2023-12-24T16:18:24.365357",
     "status": "completed"
    },
    "tags": []
   },
   "source": [
    "### 2. Fetching FMNIST Dataset\n",
    "Seperating our FMNIST(Fashion MNIST is a large dataset containing alots of fashion images with labels from 0 to 9) dataset into training data, its labels and testing data and ists labels and storing them in particular variable as numpy array."
   ]
  },
  {
   "cell_type": "code",
   "execution_count": 2,
   "id": "e2e0055a",
   "metadata": {
    "execution": {
     "iopub.execute_input": "2023-12-24T16:18:24.382370Z",
     "iopub.status.busy": "2023-12-24T16:18:24.381655Z",
     "iopub.status.idle": "2023-12-24T16:18:25.447083Z",
     "shell.execute_reply": "2023-12-24T16:18:25.445863Z"
    },
    "papermill": {
     "duration": 1.075219,
     "end_time": "2023-12-24T16:18:25.450201",
     "exception": false,
     "start_time": "2023-12-24T16:18:24.374982",
     "status": "completed"
    },
    "tags": []
   },
   "outputs": [
    {
     "name": "stdout",
     "output_type": "stream",
     "text": [
      "Downloading data from https://storage.googleapis.com/tensorflow/tf-keras-datasets/train-labels-idx1-ubyte.gz\n",
      "29515/29515 [==============================] - 0s 0us/step\n",
      "Downloading data from https://storage.googleapis.com/tensorflow/tf-keras-datasets/train-images-idx3-ubyte.gz\n",
      "26421880/26421880 [==============================] - 0s 0us/step\n",
      "Downloading data from https://storage.googleapis.com/tensorflow/tf-keras-datasets/t10k-labels-idx1-ubyte.gz\n",
      "5148/5148 [==============================] - 0s 0us/step\n",
      "Downloading data from https://storage.googleapis.com/tensorflow/tf-keras-datasets/t10k-images-idx3-ubyte.gz\n",
      "4422102/4422102 [==============================] - 0s 0us/step\n"
     ]
    }
   ],
   "source": [
    "(x_train, y_train), (x_test, y_test) = tf.keras.datasets.fashion_mnist.load_data()"
   ]
  },
  {
   "cell_type": "markdown",
   "id": "ff55bc8e",
   "metadata": {
    "papermill": {
     "duration": 0.006357,
     "end_time": "2023-12-24T16:18:25.463602",
     "exception": false,
     "start_time": "2023-12-24T16:18:25.457245",
     "status": "completed"
    },
    "tags": []
   },
   "source": [
    "### 3. Checking Data\n",
    "Checking our data by taking out random sample data and printng their array and image visulaization using matplotlib library and normalizing the pixel value by dividing the array of values by 255. "
   ]
  },
  {
   "cell_type": "code",
   "execution_count": 3,
   "id": "02355efc",
   "metadata": {
    "execution": {
     "iopub.execute_input": "2023-12-24T16:18:25.479165Z",
     "iopub.status.busy": "2023-12-24T16:18:25.478756Z",
     "iopub.status.idle": "2023-12-24T16:18:26.134504Z",
     "shell.execute_reply": "2023-12-24T16:18:26.133354Z"
    },
    "papermill": {
     "duration": 0.666884,
     "end_time": "2023-12-24T16:18:26.137128",
     "exception": false,
     "start_time": "2023-12-24T16:18:25.470244",
     "status": "completed"
    },
    "tags": []
   },
   "outputs": [
    {
     "name": "stdout",
     "output_type": "stream",
     "text": [
      "The sample image with label: 9\n",
      "The sample image with data: [[  0   0   0   0   0   0   0   0   0   0   0   0   0   0   0   0   0   0   0   0   0   0   0   0   0   0   0   0]\n",
      " [  0   0   0   0   0   0   0   0   0   0   0   0   0   0   0   0   0   0   0   0   0   0   0   0   0   0   0   0]\n",
      " [  0   0   0   0   0   0   0   0   0   0   0   0   0   0   0   0   0   0   0   0   0   0   0   0   0   0   0   0]\n",
      " [  0   0   0   0   0   0   0   0   0   0   0   0   0   0   0   0   0   0   0   0   0   0   0   0   0   0   0   0]\n",
      " [  0   0   0   0   0   0   0   0   0   0   0   2   0   0 180 183  70  39   0   0   0   0  72  93 121  22   0   2]\n",
      " [  0   0   0   0   0   0   0   0   0   0   0   3   0   0 197 230 230 255 247 237 217 223 237 238 249  53   0   5]\n",
      " [  0   0   0   0   0   0   0   0   0   0   0   4   0   0 197 211 218 218 227 234 234 230 221 216 224  11   0   2]\n",
      " [  0   0   0   0   0   0   0   0   0   1   0   5   0   5 214 214 221 220 221 216 221 225 223 222 227  18   0   3]\n",
      " [  0   0   0   0   0   0   0   0   0   2   0   4   0  38 223 218 227 217 225 222 223 227 221 220 229  26   0   2]\n",
      " [  0   0   0   0   0   0   0   0   0   0   0   2   0  96 225 218 223 220 224 222 224 225 220 219 235 103   0   0]\n",
      " [  0   0   0   0   0   0   0   0   0   0   0   0   0 164 226 221 222 220 224 222 224 225 224 218 234 202   0   0]\n",
      " [  0   0   0   0   0   0   0   0   0   0   2   0   0 242 219 225 220 216 224 223 224 226 221 220 215 229  21   0]\n",
      " [  0   0   0   0   0   0   0   0   1   1   0   0 122 227 214 225 219 222 221 221 224 226 217 218 209 235 145   0]\n",
      " [  0   0   0   0   0   0   0   0   0   2   0  17 250 210 216 223 218 222 222 223 222 221 212 201 200 217 232   0]\n",
      " [  0   0   0   0   0   0   0   0   1   0   0 202 218 206 220 227 224 223 225 227 218 207 204 196 203 213 255  17]\n",
      " [  0   0   0   0   0   0   0   0   0   0 154 216 199 215 211 224 221 215 213 211 213 215 212 216 214 216 220  35]\n",
      " [  0   0   7   6   0   0   0   0   0 138 222 196 209 200 211 206 204 206 213 215 215 221 229 234 233 223 248  27]\n",
      " [  0   0   0   0   0   0   0   0 156 217 200 205 202 203 212 214 223 223 228 233 234 233 225 213 208 203 236  69]\n",
      " [  0   0  60 149 159 146 149 210 213 197 202 192 205 212 217 227 231 227 224 211 201 199 205 209 213 201 229  47]\n",
      " [  0 132 224 213 212 212 216 204 198 203 198 206 212 219 230 231 214 212 247 232 224 215 207 196 193 185 219  29]\n",
      " [  0 210 212 192 191 193 180 194 194 191 200 207 226 238 219 208 222 234 136   0 165 215 185 192 195 185 216  29]\n",
      " [ 67 202 210 220 217 225 215 212 211 215 226 234 227 206 203 243 116   0   0   0 166 207 190 195 193 183 208  31]\n",
      " [ 87 202 197 195 201 199 207 216 215 219 211 206 191 220 237   1   0   0   5   0 146 199 183 187 187 180 188  40]\n",
      " [  0  67 182 220 241 237 228 222 214 220 217 242 255 214  37   0   6   3   2   0 165 239 218 220 220 213 255  51]\n",
      " [  0   0   0   0  24  78 115 150 166 155 155  97  52   0   0   0   3   2   0   0  72 106  57  58  46  38  31   0]\n",
      " [  0   0   0   0   0   0   0   0   0   0   0   0   0   0   0   0   0   0   0   0   0   0   0   0   0   0   0   0]\n",
      " [  0   0   0   0   0   0   0   0   0   0   0   0   0   0   0   0   0   0   0   0   0   0   0   0   0   0   0   0]\n",
      " [  0   0   0   0   0   0   0   0   0   0   0   0   0   0   0   0   0   0   0   0   0   0   0   0   0   0   0   0]]\n",
      "The real Imgage: AxesImage(size=(28, 28))\n"
     ]
    },
    {
     "data": {
      "image/png": "[encoded data removed]",
      "text/plain": [
       "<Figure size 640x480 with 1 Axes>"
      ]
     },
     "metadata": {},
     "output_type": "display_data"
    }
   ],
   "source": [
    "# taking image index for sample data\n",
    "image_index = 122\n",
    "\n",
    "# for better and broad visualization of the values of np array\n",
    "np.set_printoptions(linewidth = 320)\n",
    "print(f\"The sample image with label: {y_train[image_index]}\")\n",
    "print(f\"The sample image with data: {x_train[image_index]}\")\n",
    "print(f\"The real Imgage: {plt.imshow(x_train[image_index])}\")\n",
    "\n",
    "# normalizing the training and testing data\n",
    "training_data = x_train / 255\n",
    "testing_data = x_test / 255"
   ]
  },
  {
   "cell_type": "markdown",
   "id": "21e21a37",
   "metadata": {
    "papermill": {
     "duration": 0.006821,
     "end_time": "2023-12-24T16:18:26.151263",
     "exception": false,
     "start_time": "2023-12-24T16:18:26.144442",
     "status": "completed"
    },
    "tags": []
   },
   "source": [
    "### 4. Defining Model\n",
    "Now using TensorFlow to create Nural Network in sequence and adding Convolution layers for applying filters for better classification of objects and adding max pooling to decrease image size by half. Applying one more convolution and pooling layer to our nural net. Lastly converting the 2d array to a 1d array using Flatten layer with no arguments and then adding a Dense hidden layer with 128 size and ReLU as activation function. Lastly adding the output Dense layer with softmax function."
   ]
  },
  {
   "cell_type": "code",
   "execution_count": 4,
   "id": "bab8b47a",
   "metadata": {
    "execution": {
     "iopub.execute_input": "2023-12-24T16:18:26.167507Z",
     "iopub.status.busy": "2023-12-24T16:18:26.167026Z",
     "iopub.status.idle": "2023-12-24T16:18:26.389099Z",
     "shell.execute_reply": "2023-12-24T16:18:26.387830Z"
    },
    "papermill": {
     "duration": 0.233427,
     "end_time": "2023-12-24T16:18:26.391845",
     "exception": false,
     "start_time": "2023-12-24T16:18:26.158418",
     "status": "completed"
    },
    "tags": []
   },
   "outputs": [],
   "source": [
    "model = tf.keras.Sequential([\n",
    "    # adding convolutions to the model\n",
    "    tf.keras.layers.Conv2D(32, (3,3), activation='relu', input_shape=(28, 28, 1)),\n",
    "    tf.keras.layers.MaxPooling2D(2, 2),\n",
    "    tf.keras.layers.Conv2D(32, (3,3), activation='relu'),\n",
    "    tf.keras.layers.MaxPooling2D(2,2),\n",
    "    tf.keras.layers.Flatten(),\n",
    "    tf.keras.layers.Dense(128, activation = tf.nn.relu),\n",
    "    tf.keras.layers.Dense(10, activation = tf.nn.softmax) # output layer\n",
    "])"
   ]
  },
  {
   "cell_type": "markdown",
   "id": "8a0d49f8",
   "metadata": {
    "papermill": {
     "duration": 0.006542,
     "end_time": "2023-12-24T16:18:26.405595",
     "exception": false,
     "start_time": "2023-12-24T16:18:26.399053",
     "status": "completed"
    },
    "tags": []
   },
   "source": [
    "### 5. Compiling Model\n",
    "Setting our model using Adam method as model optimizer this is used to decrese the loss of the model per epoch during the model training. Sparse Categorical Crossentropy as loss is used to evaluate how good the model is doing on the Dataset and Lastly we have used Accuracy as the metrics to check how accurate our model is every time it is given a data."
   ]
  },
  {
   "cell_type": "code",
   "execution_count": 5,
   "id": "454cee1b",
   "metadata": {
    "execution": {
     "iopub.execute_input": "2023-12-24T16:18:26.421367Z",
     "iopub.status.busy": "2023-12-24T16:18:26.420828Z",
     "iopub.status.idle": "2023-12-24T16:18:26.445937Z",
     "shell.execute_reply": "2023-12-24T16:18:26.444605Z"
    },
    "papermill": {
     "duration": 0.036464,
     "end_time": "2023-12-24T16:18:26.448743",
     "exception": false,
     "start_time": "2023-12-24T16:18:26.412279",
     "status": "completed"
    },
    "tags": []
   },
   "outputs": [],
   "source": [
    "model.compile(optimizer = \"adam\", loss = \"sparse_categorical_crossentropy\", metrics = [\"accuracy\"])"
   ]
  },
  {
   "cell_type": "markdown",
   "id": "161499d3",
   "metadata": {
    "papermill": {
     "duration": 0.00627,
     "end_time": "2023-12-24T16:18:26.461860",
     "exception": false,
     "start_time": "2023-12-24T16:18:26.455590",
     "status": "completed"
    },
    "tags": []
   },
   "source": [
    "### 6. Training Model\n",
    "Now after compiling the model we will the train the model on our dataset so we have used fit() method and gave training data and the labels. We have defined 10 epochs which means the model will be trained with the same data for 10 times to increse the overall accuracy."
   ]
  },
  {
   "cell_type": "code",
   "execution_count": 6,
   "id": "976bacc1",
   "metadata": {
    "execution": {
     "iopub.execute_input": "2023-12-24T16:18:26.477806Z",
     "iopub.status.busy": "2023-12-24T16:18:26.477232Z",
     "iopub.status.idle": "2023-12-24T16:23:27.771913Z",
     "shell.execute_reply": "2023-12-24T16:23:27.770877Z"
    },
    "papermill": {
     "duration": 301.307803,
     "end_time": "2023-12-24T16:23:27.776614",
     "exception": false,
     "start_time": "2023-12-24T16:18:26.468811",
     "status": "completed"
    },
    "tags": []
   },
   "outputs": [
    {
     "name": "stdout",
     "output_type": "stream",
     "text": [
      "Epoch 1/10\n",
      "1875/1875 [==============================] - 32s 16ms/step - loss: 0.4716 - accuracy: 0.8279\n",
      "Epoch 2/10\n",
      "1875/1875 [==============================] - 30s 16ms/step - loss: 0.3233 - accuracy: 0.8808\n",
      "Epoch 3/10\n",
      "1875/1875 [==============================] - 30s 16ms/step - loss: 0.2772 - accuracy: 0.8991\n",
      "Epoch 4/10\n",
      "1875/1875 [==============================] - 30s 16ms/step - loss: 0.2488 - accuracy: 0.9089\n",
      "Epoch 5/10\n",
      "1875/1875 [==============================] - 30s 16ms/step - loss: 0.2218 - accuracy: 0.9172\n",
      "Epoch 6/10\n",
      "1875/1875 [==============================] - 30s 16ms/step - loss: 0.2017 - accuracy: 0.9251\n",
      "Epoch 7/10\n",
      "1875/1875 [==============================] - 30s 16ms/step - loss: 0.1815 - accuracy: 0.9329\n",
      "Epoch 8/10\n",
      "1875/1875 [==============================] - 30s 16ms/step - loss: 0.1667 - accuracy: 0.9361\n",
      "Epoch 9/10\n",
      "1875/1875 [==============================] - 30s 16ms/step - loss: 0.1512 - accuracy: 0.9434\n",
      "Epoch 10/10\n",
      "1875/1875 [==============================] - 30s 16ms/step - loss: 0.1370 - accuracy: 0.9493\n"
     ]
    },
    {
     "data": {
      "text/plain": [
       "<keras.src.callbacks.History at 0x7f4bc5cc01c0>"
      ]
     },
     "execution_count": 6,
     "metadata": {},
     "output_type": "execute_result"
    }
   ],
   "source": [
    "model.fit(training_data, y_train, epochs=10)"
   ]
  },
  {
   "cell_type": "markdown",
   "id": "7b2e7d84",
   "metadata": {
    "papermill": {
     "duration": 0.546054,
     "end_time": "2023-12-24T16:23:28.803380",
     "exception": false,
     "start_time": "2023-12-24T16:23:28.257326",
     "status": "completed"
    },
    "tags": []
   },
   "source": [
    "### 7. Testing Model\n",
    "Now it is the time for testing our model on the test data that we have earlier fetched from the FMNIST dataset and checking how accurate our model is on completely new data that the model have never seen before."
   ]
  },
  {
   "cell_type": "code",
   "execution_count": 7,
   "id": "2132dd19",
   "metadata": {
    "execution": {
     "iopub.execute_input": "2023-12-24T16:23:29.756973Z",
     "iopub.status.busy": "2023-12-24T16:23:29.756062Z",
     "iopub.status.idle": "2023-12-24T16:23:31.796340Z",
     "shell.execute_reply": "2023-12-24T16:23:31.795016Z"
    },
    "papermill": {
     "duration": 2.520395,
     "end_time": "2023-12-24T16:23:31.798948",
     "exception": false,
     "start_time": "2023-12-24T16:23:29.278553",
     "status": "completed"
    },
    "tags": []
   },
   "outputs": [
    {
     "name": "stdout",
     "output_type": "stream",
     "text": [
      "313/313 [==============================] - 2s 5ms/step - loss: 0.2826 - accuracy: 0.9030\n"
     ]
    },
    {
     "data": {
      "text/plain": [
       "[0.28255733847618103, 0.902999997138977]"
      ]
     },
     "execution_count": 7,
     "metadata": {},
     "output_type": "execute_result"
    }
   ],
   "source": [
    "model.evaluate(testing_data, y_test)"
   ]
  }
 ],
 "metadata": {
  "kaggle": {
   "accelerator": "none",
   "dataSources": [],
   "dockerImageVersionId": 30626,
   "isGpuEnabled": false,
   "isInternetEnabled": true,
   "language": "python",
   "sourceType": "notebook"
  },
  "kernelspec": {
   "display_name": "Python 3",
   "language": "python",
   "name": "python3"
  },
  "language_info": {
   "codemirror_mode": {
    "name": "ipython",
    "version": 3
   },
   "file_extension": ".py",
   "mimetype": "text/x-python",
   "name": "python",
   "nbconvert_exporter": "python",
   "pygments_lexer": "ipython3",
   "version": "3.10.12"
  },
  "papermill": {
   "default_parameters": {},
   "duration": 327.241847,
   "end_time": "2023-12-24T16:23:34.106691",
   "environment_variables": {},
   "exception": null,
   "input_path": "__notebook__.ipynb",
   "output_path": "__notebook__.ipynb",
   "parameters": {},
   "start_time": "2023-12-24T16:18:06.864844",
   "version": "2.4.0"
  }
 },
 "nbformat": 4,
 "nbformat_minor": 5
}
